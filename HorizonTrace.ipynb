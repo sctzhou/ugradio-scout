{
 "cells": [
  {
   "cell_type": "code",
   "execution_count": 11,
   "metadata": {
    "collapsed": true
   },
   "outputs": [],
   "source": [
    "import numpy as np\n",
    "import ugradio\n",
    "%matplotlib notebook\n",
    "import matplotlib.pyplot as plt\n",
    "import time\n"
   ]
  },
  {
   "cell_type": "code",
   "execution_count": 4,
   "metadata": {
    "collapsed": false
   },
   "outputs": [],
   "source": []
  },
  {
   "cell_type": "markdown",
   "metadata": {
    "collapsed": true
   },
   "source": [
    "### READ THIS\n",
    "##### adjust the argument in for loop \n",
    "##### adjust the sleeping time at line 4"
   ]
  },
  {
   "cell_type": "code",
   "execution_count": 27,
   "metadata": {
    "collapsed": false
   },
   "outputs": [],
   "source": [
    "def horizon_trace(n, dt, tries, objectt, date):\n",
    "    '''INPUT: \n",
    "        RETURNS: none''' \n",
    "\n",
    "    data = []\n",
    "    unitime = []\n",
    "    hpm = ugradio.hp_multi.HP_Multimeter()\n",
    "    #time.sleep(18000)\n",
    "    \n",
    "    sleep = (dt * tries)\n",
    "    \n",
    "    for i in range(n): #observing the object for __ half hours\n",
    "    \n",
    "        hpm.start_recording(dt,tries = tries)\n",
    "        \n",
    "        #hpm.start_recording(30,tries = 60) # recording 180 data points in half hour\n",
    "        time.sleep(sleep) ##  (have to exceed the total processing time)\n",
    "        hpm.end_recording()\n",
    "        tempData, tempTime = hpm.get_recording_data()\n",
    "        data.append(tempData)\n",
    "        unitime.append(tempTime)\n",
    "        print(\"[\" + (i+1) + \"] sets of data recorded\")\n",
    "        np.savez(\"horizon(\" + np.str(objectt) + \")_(\"+ np.str(date)+ \").npz\",volts = data, unitimes = unitime)\n",
    "        \n",
    "    \n",
    "    print(\"Data collection complete\")\n",
    "    #return(unitime, data)"
   ]
  },
  {
   "cell_type": "code",
   "execution_count": 31,
   "metadata": {
    "collapsed": false
   },
   "outputs": [],
   "source": [
    "horizon_trace(18, 30, 60, \"moon_2\", \"mar18\")\n",
    "# interrupt at 11:45 am"
   ]
  },
  {
   "cell_type": "code",
   "execution_count": 32,
   "metadata": {
    "collapsed": false
   },
   "outputs": [
    {
     "ename": "KeyboardInterrupt",
     "evalue": "",
     "output_type": "error",
     "traceback": [
      "\u001b[0;31m---------------------------------------------------------------------------\u001b[0m",
      "\u001b[0;31mKeyboardInterrupt\u001b[0m                         Traceback (most recent call last)",
      "\u001b[0;32m<ipython-input-32-80a0060daae1>\u001b[0m in \u001b[0;36m<module>\u001b[0;34m()\u001b[0m\n\u001b[1;32m      1\u001b[0m \u001b[0mtime\u001b[0m\u001b[0;34m.\u001b[0m\u001b[0msleep\u001b[0m\u001b[0;34m(\u001b[0m\u001b[0;36m7200\u001b[0m\u001b[0;34m)\u001b[0m\u001b[0;34m\u001b[0m\u001b[0m\n\u001b[0;32m----> 2\u001b[0;31m \u001b[0mhorizon_trace\u001b[0m\u001b[0;34m(\u001b[0m\u001b[0;36m11\u001b[0m\u001b[0;34m,\u001b[0m \u001b[0;36m30\u001b[0m\u001b[0;34m,\u001b[0m \u001b[0;36m60\u001b[0m\u001b[0;34m,\u001b[0m \u001b[0;34m\"sun\"\u001b[0m\u001b[0;34m,\u001b[0m \u001b[0;34m\"mar19\"\u001b[0m\u001b[0;34m)\u001b[0m\u001b[0;34m\u001b[0m\u001b[0m\n\u001b[0m",
      "\u001b[0;32m<ipython-input-27-6efd21e96bd6>\u001b[0m in \u001b[0;36mhorizon_trace\u001b[0;34m(n, dt, tries, objectt, date)\u001b[0m\n\u001b[1;32m     12\u001b[0m \u001b[0;34m\u001b[0m\u001b[0m\n\u001b[1;32m     13\u001b[0m         \u001b[0;31m#hpm.start_recording(30,tries = 60) # recording 180 data points in half hour\u001b[0m\u001b[0;34m\u001b[0m\u001b[0;34m\u001b[0m\u001b[0m\n\u001b[0;32m---> 14\u001b[0;31m         \u001b[0mtime\u001b[0m\u001b[0;34m.\u001b[0m\u001b[0msleep\u001b[0m\u001b[0;34m(\u001b[0m\u001b[0msleep\u001b[0m\u001b[0;34m)\u001b[0m \u001b[0;31m##  (have to exceed the total processing time)\u001b[0m\u001b[0;34m\u001b[0m\u001b[0m\n\u001b[0m\u001b[1;32m     15\u001b[0m         \u001b[0mhpm\u001b[0m\u001b[0;34m.\u001b[0m\u001b[0mend_recording\u001b[0m\u001b[0;34m(\u001b[0m\u001b[0;34m)\u001b[0m\u001b[0;34m\u001b[0m\u001b[0m\n\u001b[1;32m     16\u001b[0m         \u001b[0mtempData\u001b[0m\u001b[0;34m,\u001b[0m \u001b[0mtempTime\u001b[0m \u001b[0;34m=\u001b[0m \u001b[0mhpm\u001b[0m\u001b[0;34m.\u001b[0m\u001b[0mget_recording_data\u001b[0m\u001b[0;34m(\u001b[0m\u001b[0;34m)\u001b[0m\u001b[0;34m\u001b[0m\u001b[0m\n",
      "\u001b[0;31mKeyboardInterrupt\u001b[0m: "
     ]
    }
   ],
   "source": [
    "time.sleep(7200)\n",
    "horizon_trace(11, 30, 60, \"sun\", \"mar19\")\n",
    "# interrupt at 11:45 am"
   ]
  },
  {
   "cell_type": "code",
   "execution_count": null,
   "metadata": {
    "collapsed": false
   },
   "outputs": [],
   "source": []
  },
  {
   "cell_type": "code",
   "execution_count": null,
   "metadata": {
    "collapsed": true
   },
   "outputs": [],
   "source": []
  }
 ],
 "metadata": {
  "kernelspec": {
   "display_name": "Python 2",
   "language": "python",
   "name": "python2"
  },
  "language_info": {
   "codemirror_mode": {
    "name": "ipython",
    "version": 2
   },
   "file_extension": ".py",
   "mimetype": "text/x-python",
   "name": "python",
   "nbconvert_exporter": "python",
   "pygments_lexer": "ipython2",
   "version": "2.7.12"
  }
 },
 "nbformat": 4,
 "nbformat_minor": 1
}
