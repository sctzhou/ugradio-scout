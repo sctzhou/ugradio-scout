{
 "cells": [
  {
   "cell_type": "code",
   "execution_count": 11,
   "metadata": {
    "collapsed": true
   },
   "outputs": [],
   "source": [
    "import numpy as np\n",
    "import ugradio\n",
    "%matplotlib notebook\n",
    "import matplotlib.pyplot as plt\n",
    "import time"
   ]
  },
  {
   "cell_type": "code",
   "execution_count": 12,
   "metadata": {
    "collapsed": false
   },
   "outputs": [
    {
     "name": "stdout",
     "output_type": "stream",
     "text": [
      "[ 0.001268  0.001241  0.001212  0.001141  0.001059  0.000963  0.000895\n",
      "  0.00085   0.00079   0.000734  0.000686  0.000626  0.000618  0.000623\n",
      "  0.000656  0.000686  0.000727  0.000792  0.000831  0.000915  0.000984\n",
      "  0.001073  0.001144  0.001192  0.00124   0.001267  0.001262  0.001244\n",
      "  0.00123   0.001218  0.001146  0.001085  0.001003  0.000926  0.000849\n",
      "  0.000763  0.000716  0.000664  0.000638  0.000619  0.000606  0.000624\n",
      "  0.000675  0.000723  0.000799  0.000881  0.000979  0.00107   0.001126\n",
      "  0.001196  0.001218  0.001259  0.001277  0.001265  0.00126   0.00122\n",
      "  0.001156  0.001109  0.001024  0.000961  0.000887  0.000796  0.000745\n",
      "  0.000693  0.000646  0.000617  0.000606  0.00061   0.000656  0.0007\n",
      "  0.000767  0.000841  0.000907  0.000981  0.00105   0.001133  0.001216\n",
      "  0.001267  0.001256  0.001267  0.001286  0.001236  0.001214  0.001167\n",
      "  0.001085  0.001024  0.000935  0.00086   0.000783  0.00073   0.000686\n",
      "  0.000635  0.000631  0.000633  0.000663  0.000706  0.000735  0.000787\n",
      "  0.000878  0.000943  0.00102   0.001108  0.001172  0.001206  0.001261\n",
      "  0.001294  0.001298  0.001279  0.001248  0.001194  0.001113  0.001035\n",
      "  0.000978  0.000899  0.000822  0.000757  0.000705  0.00067   0.000643\n",
      "  0.000621  0.00063 ]\n"
     ]
    }
   ],
   "source": [
    "hpm = ugradio.hp_multi.HP_Multimeter()\n",
    "#hpm.read_voltage()\n",
    "hpm.start_recording(1,tries = 100)\n",
    "time.sleep(120) ## locally wait for 120 seconds (have to exceed the total processing time)\n",
    "hpm.end_recording()\n",
    "#pm.get_recording_status()\n",
    "data, times = hpm.get_recording_data()\n",
    "np.savez(\"Sun Data_Mar10.npz\",volts = data, unitimes = times)\n",
    "print data"
   ]
  },
  {
   "cell_type": "code",
   "execution_count": 7,
   "metadata": {
    "collapsed": false
   },
   "outputs": [],
   "source": [
    "hpm.start_recording?"
   ]
  },
  {
   "cell_type": "code",
   "execution_count": 4,
   "metadata": {
    "collapsed": false
   },
   "outputs": [
    {
     "name": "stdout",
     "output_type": "stream",
     "text": [
      "[ 0.000402]\n"
     ]
    }
   ],
   "source": [
    "npz = np.load(\"Sun Data_Mar10.npz\")\n",
    "print npz[\"volts\"]"
   ]
  },
  {
   "cell_type": "markdown",
   "metadata": {},
   "source": [
    "# local fringe frequency\n",
    "Bew = 20 #m\n",
    "lbda = 2.5 #cm\n",
    "\n",
    "ff = [Bew/lbda * cos(delta)]"
   ]
  },
  {
   "cell_type": "code",
   "execution_count": 5,
   "metadata": {
    "collapsed": true
   },
   "outputs": [],
   "source": [
    "hpm.start_recording??\n",
    "#np.savez(\"Sun Data_Mar10\",volt = data, unixtime = time)"
   ]
  }
 ],
 "metadata": {
  "kernelspec": {
   "display_name": "Python 2",
   "language": "python",
   "name": "python2"
  },
  "language_info": {
   "codemirror_mode": {
    "name": "ipython",
    "version": 2
   },
   "file_extension": ".py",
   "mimetype": "text/x-python",
   "name": "python",
   "nbconvert_exporter": "python",
   "pygments_lexer": "ipython2",
   "version": "2.7.12"
  }
 },
 "nbformat": 4,
 "nbformat_minor": 1
}
