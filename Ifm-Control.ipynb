{
 "cells": [
  {
   "cell_type": "code",
   "execution_count": 16,
   "metadata": {
    "collapsed": true
   },
   "outputs": [],
   "source": [
    "import numpy as np\n",
    "import ugradio\n",
    "from ugradio.timing import nch\n",
    "import time\n",
    "from __future__ import division\n"
   ]
  },
  {
   "cell_type": "markdown",
   "metadata": {},
   "source": [
    "nch.lat??"
   ]
  },
  {
   "cell_type": "markdown",
   "metadata": {},
   "source": [
    "ifm = ugradio.interf.Interferometer()\n",
    "ifm.get_pointing()"
   ]
  },
  {
   "cell_type": "code",
   "execution_count": 17,
   "metadata": {
    "collapsed": true
   },
   "outputs": [],
   "source": [
    "def diff(a,b):\n",
    "    return np.abs(a-b)"
   ]
  },
  {
   "cell_type": "code",
   "execution_count": 18,
   "metadata": {
    "collapsed": true
   },
   "outputs": [],
   "source": [
    "def sun_alt():\n",
    "    jd = ugradio.timing.julian_date()\n",
    "    ra,dec = ugradio.coord.sunpos(jd)\n",
    "    alt,az = ugradio.coord.get_altaz(ra,dec,jd,nch.lat,nch.lon,nch.alt)\n",
    "    return (alt,az)\n",
    "#locate the current position of sun in alt and az"
   ]
  },
  {
   "cell_type": "code",
   "execution_count": 19,
   "metadata": {
    "collapsed": true
   },
   "outputs": [],
   "source": [
    "def moon_alt():\n",
    "    jd = ugradio.timing.julian_date()\n",
    "    ra,dec = ugradio.coord.moonpos(jd,nch.lat,nch.lon,nch.alt)\n",
    "    alt,az = ugradio.coord.get_altaz(ra,dec,jd,nch.lat,nch.lon,nch.alt)\n",
    "    return (alt,az)\n",
    "#locate the current position of moon in alt and az"
   ]
  },
  {
   "cell_type": "markdown",
   "metadata": {},
   "source": [
    "#point to the location of the sun\n",
    "ifm = ugradio.interf.Interferometer()\n",
    "alt,az = sun_alt()\n",
    "ifm.point(alt,az)\n",
    "pointing = ifm.get_pointing()\n",
    "w_alt,w_az = pointing[\"ant_w\"]\n",
    "e_alt,e_az = pointing[\"ant_e\"]\n",
    "print(\"target:\"+ str(alt)+\",\"+str(az))\n",
    "print(\"west pointed :\"+ str(w_alt)+\",\"+str(w_az))\n",
    "print(\"east pointed :\"+ str(e_alt)+\",\"+str(e_az))"
   ]
  },
  {
   "cell_type": "markdown",
   "metadata": {},
   "source": [
    "ifm.get_pointing()"
   ]
  },
  {
   "cell_type": "markdown",
   "metadata": {},
   "source": [
    "ifm.stow()"
   ]
  },
  {
   "cell_type": "markdown",
   "metadata": {
    "collapsed": true
   },
   "source": [
    "def ob_alt():\n",
    "#locate the position of the observed object\n",
    "    jd = ugradio.timing.julian_date()\n",
    "#    ra,dec = ugradio.coord.sunpos(jd) # position of the object\n",
    "    alt,az = ugradio.coord.get_altaz(ra,dec,jd,nch.lat,nch.lon,nch.alt)\n",
    "    return (alt,az)"
   ]
  },
  {
   "cell_type": "code",
   "execution_count": null,
   "metadata": {
    "collapsed": true
   },
   "outputs": [],
   "source": [
    "def cyg_altaz():\n",
    "    \"\"\"Determines altitude and azimuth of Cygnus at current time.\"\"\"\n",
    "    ra_deg = 299.86815417\n",
    "    dec_deg = 40.733916679\n",
    "    ra_now, dec_now = ugradio.coord.precess(ra_deg, dec_deg)\n",
    "    cyg_alt, cyg_az = ugradio.coord.get_altaz(ra_now, dec_now)\n",
    "    return cyg_alt, cyg_az"
   ]
  },
  {
   "cell_type": "code",
   "execution_count": 21,
   "metadata": {
    "collapsed": false
   },
   "outputs": [
    {
     "name": "stdout",
     "output_type": "stream",
     "text": [
      "41.5299857933 100.418548329\n"
     ]
    }
   ],
   "source": [
    "alt, az = moon_alt()\n",
    "print alt,az"
   ]
  },
  {
   "cell_type": "code",
   "execution_count": 23,
   "metadata": {
    "collapsed": false
   },
   "outputs": [
    {
     "name": "stdout",
     "output_type": "stream",
     "text": [
      "pointing dishes \n",
      "first pointing done \n",
      "target:43.2999621483,102.169263988\n",
      "target:43.4082885478,102.279135146\n",
      "target:43.5133154625,102.385977345\n",
      "target:43.6184427596,102.493237713\n",
      "target:43.7232470331,102.600486175\n",
      "target:43.8281075786,102.708112611\n",
      "target:43.932894726,102.81598683\n",
      "target:44.037712971,102.924219223\n",
      "target:44.1424112418,103.032656418\n",
      "target:44.2469814092,103.141291888\n",
      "target:44.3515771361,103.250287874\n",
      "target:44.4562445488,103.359696036\n",
      "target:44.5608597201,103.469390087\n",
      "target:44.6653154519,103.57925978\n",
      "target:44.7698079893,103.689514144\n",
      "target:44.8744186914,103.800243056\n",
      "target:44.9789198394,103.911208816\n",
      "target:45.0832890329,104.022389736\n",
      "target:45.1876506041,104.133920904\n",
      "target:45.2919955193,104.24579593\n",
      "target:45.3960785868,104.357753891\n",
      "target:45.5001654234,104.47008259\n",
      "target:45.6044919344,104.583041393\n",
      "target:45.7084125768,104.69593397\n",
      "target:45.8123496586,104.80922054\n",
      "target:45.9164827565,104.923101584\n",
      "target:46.0204052782,105.037135999\n",
      "target:46.1240520058,105.15125318\n",
      "target:46.2277133691,105.265775127\n",
      "target:46.3315456274,105.380879246\n",
      "target:46.4353382272,105.496336657\n",
      "target:46.5390461064,105.61210034\n",
      "target:46.6424909621,105.727973099\n",
      "target:46.7460480767,105.844378311\n",
      "target:46.8495445344,105.961125845\n",
      "target:46.9528855319,106.078111442\n",
      "target:47.0563818177,106.195690899\n",
      "target:47.1599342551,106.31375695\n",
      "target:47.2632783411,106.432011201\n",
      "target:47.3667044966,106.550789361\n",
      "target:47.4697092579,106.669515304\n",
      "target:47.5726947809,106.788654019\n",
      "target:47.6755181205,106.908043245\n",
      "target:47.7785558851,107.028124919\n",
      "target:47.8813184065,107.148332335\n",
      "target:47.9839252502,107.268806941\n",
      "target:48.0864728617,107.389664998\n",
      "target:48.1891243452,107.511103519\n",
      "target:48.2917605221,107.632986654\n",
      "target:48.3942075052,107.755111118\n",
      "target:48.4966616308,107.87771436\n",
      "target:48.5989468794,108.000589316\n",
      "target:48.7012155345,108.123922374\n",
      "target:48.8032963451,108.247510356\n",
      "target:48.905359242,108.371562371\n",
      "target:49.0074808224,108.496176708\n",
      "target:49.1093725261,108.621004957\n",
      "target:49.2112409026,108.746303315\n",
      "target:49.3130615015,108.872046238\n",
      "target:49.4147382705,108.998118789\n",
      "target:49.5162963156,109.124555288\n",
      "target:49.6178101323,109.251452456\n",
      "target:49.7192268999,109.378748454\n",
      "target:49.8205617749,109.506466254\n",
      "target:49.9218217981,109.634618893\n",
      "target:50.022948661,109.763136383\n",
      "target:50.1241217221,109.892251482\n",
      "target:50.2253685554,110.022005927\n",
      "target:50.3262136418,110.15179329\n",
      "target:50.4273561259,110.282518238\n",
      "target:50.5281192154,110.413311119\n",
      "target:50.6288319447,110.544601284\n",
      "target:50.7295230283,110.676431457\n",
      "target:50.8300032633,110.808557908\n",
      "target:50.9305545402,110.941356149\n",
      "target:51.0310877824,111.074715107\n",
      "target:51.1313862415,111.208351234\n",
      "target:51.2315654901,111.342421639\n",
      "target:51.3316166222,111.476918509\n",
      "target:51.4318656109,111.61228707\n",
      "target:51.5317246259,111.747738279\n",
      "target:51.6314861762,111.883670969\n",
      "target:51.7312171206,112.020181654\n",
      "target:51.8308011567,112.157116162\n",
      "target:51.9303550365,112.294640123\n",
      "target:52.0297141016,112.432530768\n",
      "target:52.1289693833,112.570918466\n",
      "target:52.22819668,112.709914616\n",
      "target:52.3273890233,112.849515924\n",
      "target:52.4263562584,112.989459357\n",
      "target:52.5252659667,113.129986303\n",
      "target:52.6240670998,113.271029889\n",
      "target:52.7227436454,113.412572297\n",
      "target:52.8214201215,113.554798368\n",
      "target:52.9200717405,113.697679742\n",
      "target:53.0183278925,113.840682917\n",
      "target:53.1166173844,113.984435925\n",
      "target:53.2147718805,114.128699351\n",
      "target:53.3129212318,114.273670512\n",
      "target:53.4107751563,114.418925425\n",
      "target:53.5085768311,114.564829385\n",
      "target:53.6064023803,114.711503918\n",
      "target:53.7040109727,114.858594135\n",
      "target:53.8014474841,115.006171699\n",
      "target:53.8987548262,115.154306706\n",
      "target:53.995983895,115.3030829\n",
      "target:54.0932250116,115.452646511\n",
      "target:54.1902850888,115.602707468\n",
      "target:54.2872355748,115.753381777\n"
     ]
    },
    {
     "ename": "KeyboardInterrupt",
     "evalue": "",
     "output_type": "error",
     "traceback": [
      "\u001b[0;31m---------------------------------------------------------------------------\u001b[0m",
      "\u001b[0;31mKeyboardInterrupt\u001b[0m                         Traceback (most recent call last)",
      "\u001b[0;32m<ipython-input-23-25b8f832de3a>\u001b[0m in \u001b[0;36m<module>\u001b[0;34m()\u001b[0m\n\u001b[1;32m     33\u001b[0m \u001b[0;34m\u001b[0m\u001b[0m\n\u001b[1;32m     34\u001b[0m             \u001b[0;32mraise\u001b[0m \u001b[0mException\u001b[0m \u001b[0;34m(\u001b[0m\u001b[0;34m\"pointing error\"\u001b[0m\u001b[0;34m)\u001b[0m\u001b[0;34m\u001b[0m\u001b[0m\n\u001b[0;32m---> 35\u001b[0;31m         \u001b[0mtime\u001b[0m\u001b[0;34m.\u001b[0m\u001b[0msleep\u001b[0m\u001b[0;34m(\u001b[0m\u001b[0mDT\u001b[0m\u001b[0;34m)\u001b[0m\u001b[0;34m\u001b[0m\u001b[0m\n\u001b[0m\u001b[1;32m     36\u001b[0m \u001b[0;34m\u001b[0m\u001b[0m\n\u001b[1;32m     37\u001b[0m \u001b[0;32mexcept\u001b[0m \u001b[0mException\u001b[0m \u001b[0;32mas\u001b[0m \u001b[0me\u001b[0m\u001b[0;34m:\u001b[0m\u001b[0;34m\u001b[0m\u001b[0m\n",
      "\u001b[0;31mKeyboardInterrupt\u001b[0m: "
     ]
    }
   ],
   "source": [
    "DT = 60 # point at the object every three minutes\n",
    "tol = 1\n",
    "\n",
    "alt, az = cyg_alt()\n",
    "\n",
    "ifm = ugradio.interf.Interferometer()\n",
    "print(\"pointing dishes \")\n",
    "ifm.point(alt,az)\n",
    "print(\"first pointing done \")\n",
    "\n",
    "MaxT = ugradio.timing.julian_date() + 0.00001157*60* 60 * 15# julian_date measured in days, 0.00001157 is one second \n",
    "# maximum time = 60*15 mins\n",
    "\n",
    "try:\n",
    "\n",
    "    while True:\n",
    "        if ugradio.timing.julian_date()>MaxT:\n",
    "            print(\"observing successful\")\n",
    "            break\n",
    "        alt,az = cyg_alt()\n",
    "        ifm.point(alt,az)\n",
    "        pointing = ifm.get_pointing()\n",
    "        w_alt,w_az = pointing[\"ant_w\"]\n",
    "        e_alt,e_az = pointing[\"ant_e\"]\n",
    "        \n",
    "        print(\"target:\"+ str(alt)+\",\"+str(az))\n",
    "#        print(\"west pointed :\"+ str(w_alt)+\",\"+str(w_az))\n",
    "#        print(\"east pointed :\"+ str(e_alt)+\",\"+str(e_az))\n",
    "        if (diff(alt,e_alt)>tol or\n",
    "            diff(az,e_az)>tol or\n",
    "            diff(alt,w_alt)>tol or\n",
    "            diff(az,w_az)>tol ):\n",
    "            \n",
    "            raise Exception (\"pointing error\")\n",
    "        time.sleep(DT)\n",
    "\n",
    "except Exception as e:\n",
    "    print(e)\n",
    "    \n",
    "finally:\n",
    "    ifm.stow()"
   ]
  },
  {
   "cell_type": "code",
   "execution_count": null,
   "metadata": {
    "collapsed": false
   },
   "outputs": [],
   "source": []
  },
  {
   "cell_type": "code",
   "execution_count": null,
   "metadata": {
    "collapsed": false
   },
   "outputs": [],
   "source": []
  },
  {
   "cell_type": "code",
   "execution_count": 8,
   "metadata": {
    "collapsed": true
   },
   "outputs": [],
   "source": []
  }
 ],
 "metadata": {
  "kernelspec": {
   "display_name": "Python 2",
   "language": "python",
   "name": "python2"
  },
  "language_info": {
   "codemirror_mode": {
    "name": "ipython",
    "version": 2
   },
   "file_extension": ".py",
   "mimetype": "text/x-python",
   "name": "python",
   "nbconvert_exporter": "python",
   "pygments_lexer": "ipython2",
   "version": "2.7.12"
  }
 },
 "nbformat": 4,
 "nbformat_minor": 1
}
