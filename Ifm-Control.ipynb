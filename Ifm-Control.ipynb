{
 "cells": [
  {
   "cell_type": "code",
   "execution_count": 2,
   "metadata": {
    "collapsed": true
   },
   "outputs": [],
   "source": [
    "import numpy as np\n",
    "import ugradio\n",
    "from ugradio.timing import nch\n",
    "import time\n",
    "from __future__ import division\n"
   ]
  },
  {
   "cell_type": "code",
   "execution_count": 3,
   "metadata": {
    "collapsed": true
   },
   "outputs": [],
   "source": [
    "def diff(a,b):\n",
    "    return np.abs(a-b)"
   ]
  },
  {
   "cell_type": "code",
   "execution_count": 4,
   "metadata": {
    "collapsed": true
   },
   "outputs": [],
   "source": [
    "def sun_alt():\n",
    "    jd = ugradio.timing.julian_date()\n",
    "    ra,dec = ugradio.coord.sunpos(jd)\n",
    "    alt,az = ugradio.coord.get_altaz(ra,dec,jd,nch.lat,nch.lon,nch.alt)\n",
    "    return (alt,az)\n",
    "#locate the current position of sun in alt and az"
   ]
  },
  {
   "cell_type": "code",
   "execution_count": 34,
   "metadata": {
    "collapsed": false
   },
   "outputs": [
    {
     "name": "stdout",
     "output_type": "stream",
     "text": [
      "pointing dishes \n",
      "first pointing done \n",
      "target:28.148702157,239.043161175\n",
      "west pointed :28.15234375,239.047070312\n",
      "east pointed :28.0810546875,239.043945312\n",
      "target:28.1213218028,239.076838754\n",
      "west pointed :28.1083984375,239.069042969\n",
      "east pointed :28.0151367188,239.065917969\n",
      "target:28.0969304246,239.106814175\n",
      "west pointed :28.1083984375,239.091015625\n",
      "east pointed :28.1030273438,239.109863281\n",
      "target:28.0725045013,239.136807793\n",
      "west pointed :28.064453125,239.134960938\n",
      "east pointed :28.0590820312,239.131835938\n",
      "observing successful\n"
     ]
    }
   ],
   "source": [
    "DT = 5\n",
    "tol = 1\n",
    "\n",
    "alt, az = sun_alt()\n",
    "\n",
    "ifm = ugradio.interf.Interferometer()\n",
    "print(\"pointing dishes \")\n",
    "ifm.point(alt,az)\n",
    "print(\"first pointing done \")\n",
    "\n",
    "MaxT = ugradio.timing.julian_date() + 0.00001157*30 # julian_date measured in days, 0.00001157 is one second \n",
    "\n",
    "\n",
    "try:\n",
    "\n",
    "    while True:\n",
    "        if ugradio.timing.julian_date()>MaxT:\n",
    "            print(\"observing successful\")\n",
    "            break\n",
    "        alt,az = sun_alt()\n",
    "        ifm.point(alt,az)\n",
    "        pointing = ifm.get_pointing()\n",
    "        w_alt,w_az = pointing[\"ant_w\"]\n",
    "        e_alt,e_az = pointing[\"ant_e\"]\n",
    "        \n",
    "        print(\"target:\"+ str(alt)+\",\"+str(az))\n",
    "        print(\"west pointed :\"+ str(w_alt)+\",\"+str(w_az))\n",
    "        print(\"east pointed :\"+ str(e_alt)+\",\"+str(e_az))\n",
    "        if (diff(alt,e_alt)>tol or\n",
    "            diff(az,e_az)>tol or\n",
    "            diff(alt,w_alt)>tol or\n",
    "            diff(az,w_az)>tol ):\n",
    "            \n",
    "            raise Exception (\"pointing error\")\n",
    "        time.sleep(DT)\n",
    "\n",
    "except Exception as e:\n",
    "    print(e)\n",
    "    \n",
    "finally:\n",
    "    ifm.stow()"
   ]
  },
  {
   "cell_type": "code",
   "execution_count": 7,
   "metadata": {
    "collapsed": false
   },
   "outputs": [
    {
     "name": "stdout",
     "output_type": "stream",
     "text": [
      "target:48.5421120148,180.653052572\n",
      "west pointed :48.7626953125,180.665722656\n",
      "east pointed :48.4936523438,180.662597656\n"
     ]
    }
   ],
   "source": [
    "#point to the location of the sun\n",
    "ifm = ugradio.interf.Interferometer()\n",
    "alt,az = sun_alt()\n",
    "ifm.point(alt,az)\n",
    "pointing = ifm.get_pointing()\n",
    "w_alt,w_az = pointing[\"ant_w\"]\n",
    "e_alt,e_az = pointing[\"ant_e\"]\n",
    "print(\"target:\"+ str(alt)+\",\"+str(az))\n",
    "print(\"west pointed :\"+ str(w_alt)+\",\"+str(w_az))\n",
    "print(\"east pointed :\"+ str(e_alt)+\",\"+str(e_az))"
   ]
  },
  {
   "cell_type": "code",
   "execution_count": 8,
   "metadata": {
    "collapsed": true
   },
   "outputs": [],
   "source": [
    "ifm.stow()"
   ]
  }
 ],
 "metadata": {
  "kernelspec": {
   "display_name": "Python 2",
   "language": "python",
   "name": "python2"
  },
  "language_info": {
   "codemirror_mode": {
    "name": "ipython",
    "version": 2
   },
   "file_extension": ".py",
   "mimetype": "text/x-python",
   "name": "python",
   "nbconvert_exporter": "python",
   "pygments_lexer": "ipython2",
   "version": "2.7.12"
  }
 },
 "nbformat": 4,
 "nbformat_minor": 1
}
