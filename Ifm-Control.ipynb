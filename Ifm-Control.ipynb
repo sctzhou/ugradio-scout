{
 "cells": [
  {
   "cell_type": "code",
   "execution_count": 16,
   "metadata": {
    "collapsed": true
   },
   "outputs": [],
   "source": [
    "import numpy as np\n",
    "import ugradio\n",
    "from ugradio.timing import nch\n",
    "import time\n",
    "from __future__ import division\n"
   ]
  },
  {
   "cell_type": "markdown",
   "metadata": {},
   "source": [
    "nch.lat??"
   ]
  },
  {
   "cell_type": "markdown",
   "metadata": {},
   "source": [
    "ifm = ugradio.interf.Interferometer()\n",
    "ifm.get_pointing()"
   ]
  },
  {
   "cell_type": "code",
   "execution_count": 17,
   "metadata": {
    "collapsed": true
   },
   "outputs": [],
   "source": [
    "def diff(a,b):\n",
    "    return np.abs(a-b)"
   ]
  },
  {
   "cell_type": "code",
   "execution_count": 18,
   "metadata": {
    "collapsed": true
   },
   "outputs": [],
   "source": [
    "def sun_alt():\n",
    "    jd = ugradio.timing.julian_date()\n",
    "    ra,dec = ugradio.coord.sunpos(jd)\n",
    "    alt,az = ugradio.coord.get_altaz(ra,dec,jd,nch.lat,nch.lon,nch.alt)\n",
    "    return (alt,az)\n",
    "#locate the current position of sun in alt and az"
   ]
  },
  {
   "cell_type": "code",
   "execution_count": 19,
   "metadata": {
    "collapsed": true
   },
   "outputs": [],
   "source": [
    "def moon_alt():\n",
    "    jd = ugradio.timing.julian_date()\n",
    "    ra,dec = ugradio.coord.moonpos(jd,nch.lat,nch.lon,nch.alt)\n",
    "    alt,az = ugradio.coord.get_altaz(ra,dec,jd,nch.lat,nch.lon,nch.alt)\n",
    "    return (alt,az)\n",
    "#locate the current position of moon in alt and az"
   ]
  },
  {
   "cell_type": "markdown",
   "metadata": {},
   "source": [
    "#point to the location of the sun\n",
    "ifm = ugradio.interf.Interferometer()\n",
    "alt,az = sun_alt()\n",
    "ifm.point(alt,az)\n",
    "pointing = ifm.get_pointing()\n",
    "w_alt,w_az = pointing[\"ant_w\"]\n",
    "e_alt,e_az = pointing[\"ant_e\"]\n",
    "print(\"target:\"+ str(alt)+\",\"+str(az))\n",
    "print(\"west pointed :\"+ str(w_alt)+\",\"+str(w_az))\n",
    "print(\"east pointed :\"+ str(e_alt)+\",\"+str(e_az))"
   ]
  },
  {
   "cell_type": "markdown",
   "metadata": {},
   "source": [
    "ifm.get_pointing()"
   ]
  },
  {
   "cell_type": "markdown",
   "metadata": {},
   "source": [
    "ifm.stow()"
   ]
  },
  {
   "cell_type": "code",
   "execution_count": 20,
   "metadata": {
    "collapsed": true
   },
   "outputs": [],
   "source": [
    "def ob_alt():\n",
    "#locate the position of the observed object\n",
    "    jd = ugradio.timing.julian_date()\n",
    "#    ra,dec = ugradio.coord.sunpos(jd) # position of the object\n",
    "    alt,az = ugradio.coord.get_altaz(ra,dec,jd,nch.lat,nch.lon,nch.alt)\n",
    "    return (alt,az)"
   ]
  },
  {
   "cell_type": "code",
   "execution_count": 21,
   "metadata": {
    "collapsed": false
   },
   "outputs": [
    {
     "name": "stdout",
     "output_type": "stream",
     "text": [
      "41.5299857933 100.418548329\n"
     ]
    }
   ],
   "source": [
    "alt, az = moon_alt()\n",
    "print alt,az"
   ]
  },
  {
   "cell_type": "code",
   "execution_count": null,
   "metadata": {
    "collapsed": false
   },
   "outputs": [
    {
     "name": "stdout",
     "output_type": "stream",
     "text": [
      "pointing dishes \n",
      "first pointing done \n",
      "target:43.2999621483,102.169263988\n",
      "target:43.4082885478,102.279135146\n"
     ]
    }
   ],
   "source": [
    "DT = 30\n",
    "tol = 1\n",
    "\n",
    "alt, az = moon_alt()\n",
    "\n",
    "ifm = ugradio.interf.Interferometer()\n",
    "print(\"pointing dishes \")\n",
    "ifm.point(alt,az)\n",
    "print(\"first pointing done \")\n",
    "\n",
    "MaxT = ugradio.timing.julian_date() + 0.00001157*60*70 # julian_date measured in days, 0.00001157 is one second \n",
    "# maximum time = 70 mins\n",
    "\n",
    "try:\n",
    "\n",
    "    while True:\n",
    "        if ugradio.timing.julian_date()>MaxT:\n",
    "            print(\"observing successful\")\n",
    "            break\n",
    "        alt,az = moon_alt()\n",
    "        ifm.point(alt,az)\n",
    "        pointing = ifm.get_pointing()\n",
    "        w_alt,w_az = pointing[\"ant_w\"]\n",
    "        e_alt,e_az = pointing[\"ant_e\"]\n",
    "        \n",
    "        print(\"target:\"+ str(alt)+\",\"+str(az))\n",
    "#        print(\"west pointed :\"+ str(w_alt)+\",\"+str(w_az))\n",
    "#        print(\"east pointed :\"+ str(e_alt)+\",\"+str(e_az))\n",
    "        if (diff(alt,e_alt)>tol or\n",
    "            diff(az,e_az)>tol or\n",
    "            diff(alt,w_alt)>tol or\n",
    "            diff(az,w_az)>tol ):\n",
    "            \n",
    "            raise Exception (\"pointing error\")\n",
    "        time.sleep(DT)\n",
    "\n",
    "except Exception as e:\n",
    "    print(e)\n",
    "    \n",
    "finally:\n",
    "    ifm.stow()"
   ]
  },
  {
   "cell_type": "code",
   "execution_count": null,
   "metadata": {
    "collapsed": false
   },
   "outputs": [],
   "source": []
  },
  {
   "cell_type": "code",
   "execution_count": null,
   "metadata": {
    "collapsed": false
   },
   "outputs": [],
   "source": []
  },
  {
   "cell_type": "code",
   "execution_count": 8,
   "metadata": {
    "collapsed": true
   },
   "outputs": [],
   "source": []
  }
 ],
 "metadata": {
  "kernelspec": {
   "display_name": "Python 2",
   "language": "python",
   "name": "python2"
  },
  "language_info": {
   "codemirror_mode": {
    "name": "ipython",
    "version": 2
   },
   "file_extension": ".py",
   "mimetype": "text/x-python",
   "name": "python",
   "nbconvert_exporter": "python",
   "pygments_lexer": "ipython2",
   "version": "2.7.12"
  }
 },
 "nbformat": 4,
 "nbformat_minor": 1
}
